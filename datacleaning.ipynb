{
 "cells": [
  {
   "cell_type": "code",
   "execution_count": 1,
   "metadata": {},
   "outputs": [],
   "source": [
    "import pandas as pd\n",
    "import matplotlib.pyplot as plt\n",
    "pd.set_option('display.max_rows', 1500)"
   ]
  },
  {
   "cell_type": "code",
   "execution_count": 2,
   "metadata": {
    "scrolled": false
   },
   "outputs": [],
   "source": [
    "# df1 = pd.read_csv(\"datasets/c_feb.csv\")\n",
    "# df2 = pd.read_csv(\"datasets/c_april.csv\")\n",
    "# df3 = pd.read_csv(\"datasets/c_jun.csv\")\n",
    "# df4 = pd.read_csv(\"datasets/c_aug.csv\")\n",
    "# df5 = pd.read_csv(\"datasets/c_oct.csv\")\n",
    "# df6 = pd.read_csv(\"datasets/c_dec.csv\")\n",
    "\n",
    "location = [\"datasets/c_feb.csv\", \"datasets/c_jan.csv\", \"datasets/c_march.csv\", \"datasets/c_april.csv\", \n",
    "            \"datasets/c_may.csv\", \"datasets/c_jun.csv\", \"datasets/c_july.csv\", \"datasets/c_aug.csv\", \n",
    "            \"datasets/c_sept.csv\", \"datasets/c_oct.csv\", \"datasets/c_nov.csv\", \"datasets/c_dec.csv\"]\n",
    "# datasets = [df1, df2, df3, df4, df5, df6]"
   ]
  },
  {
   "cell_type": "code",
   "execution_count": 301,
   "metadata": {},
   "outputs": [],
   "source": [
    "# for one month\n",
    "df = df2\n",
    "\n",
    "df = df.drop([0,1,2])\n",
    "df = df.drop(df.columns[[2]], axis = 1)\n",
    "\n",
    "df.columns = [\"datetime\", \"temperature\"]\n",
    "df[['date','time']] = df.datetime.str.split(\"T\",expand=True)\n",
    "\n",
    "df[\"time_interval\"] = df.time.astype('category').cat.codes\n",
    "\n",
    "df[\"temperature\"] = df[\"temperature\"].apply(pd.to_numeric)\n",
    "df = df.fillna(method=\"ffill\")\n",
    "\n",
    "df = df.drop([\"date\", \"datetime\", \"time\"], axis=1)\n",
    "\n",
    "df.to_csv(\"datasets/test_data.csv\", index=False)"
   ]
  },
  {
   "cell_type": "code",
   "execution_count": 3,
   "metadata": {},
   "outputs": [],
   "source": [
    "cleaned_data = []\n",
    "\n",
    "for link in location:\n",
    "    \n",
    "    df = pd.read_csv(link)\n",
    "    df = df.drop([0,1,2])\n",
    "    df = df.drop(df.columns[[2]], axis = 1)\n",
    "    \n",
    "    df.columns = [\"datetime\", \"temperature\"]\n",
    "    df[['date','time']] = df.datetime.str.split(\"T\",expand=True)\n",
    "    \n",
    "    df[\"time_interval\"] = df.time.astype('category').cat.codes\n",
    "    \n",
    "    df[\"temperature\"] = df[\"temperature\"].apply(pd.to_numeric)\n",
    "    df = df.fillna(method=\"ffill\")\n",
    "    \n",
    "    df = df.drop([\"date\", \"datetime\", \"time\"], axis=1)\n",
    "    \n",
    "#     df[\"temperature\"].plot(label=f'month {i}')\n",
    "    cleaned_data.append(df)"
   ]
  },
  {
   "cell_type": "code",
   "execution_count": 5,
   "metadata": {},
   "outputs": [
    {
     "data": {
      "text/plain": [
       "<bound method DataFrame.info of       temperature  time_interval\n",
       "3          29.941              0\n",
       "4          29.941              1\n",
       "5          29.941              2\n",
       "6          29.966              3\n",
       "7          29.941              4\n",
       "...           ...            ...\n",
       "7078       28.171            235\n",
       "7079       28.171            236\n",
       "7080       28.196            237\n",
       "7081       28.196            238\n",
       "7082       28.171            239\n",
       "\n",
       "[101380 rows x 2 columns]>"
      ]
     },
     "execution_count": 5,
     "metadata": {},
     "output_type": "execute_result"
    }
   ],
   "source": [
    "df = pd.concat(cleaned_data)\n",
    "df.info"
   ]
  },
  {
   "cell_type": "code",
   "execution_count": 6,
   "metadata": {},
   "outputs": [],
   "source": [
    "df.to_csv(\"datasets/cleaned_data.csv\", index=False)"
   ]
  },
  {
   "cell_type": "code",
   "execution_count": 260,
   "metadata": {},
   "outputs": [],
   "source": [
    "def printdata():\n",
    "    while True:\n",
    "        for i in range(len(df)):    \n",
    "            temp, time = df.iloc[i, :]\n",
    "            yield temp, time"
   ]
  },
  {
   "cell_type": "code",
   "execution_count": 261,
   "metadata": {},
   "outputs": [],
   "source": [
    "generator = printdata()"
   ]
  },
  {
   "cell_type": "code",
   "execution_count": 215,
   "metadata": {},
   "outputs": [],
   "source": [
    "def infinite_sequence():\n",
    "    num = 0\n",
    "    while True:\n",
    "        yield num\n",
    "        num += 1"
   ]
  },
  {
   "cell_type": "code",
   "execution_count": 217,
   "metadata": {},
   "outputs": [],
   "source": [
    "temp = infinite_sequence()"
   ]
  },
  {
   "cell_type": "code",
   "execution_count": 299,
   "metadata": {
    "scrolled": true
   },
   "outputs": [
    {
     "data": {
      "text/plain": [
       "(29.89, 37.0)"
      ]
     },
     "execution_count": 299,
     "metadata": {},
     "output_type": "execute_result"
    }
   ],
   "source": [
    "generator.__next__()"
   ]
  },
  {
   "cell_type": "code",
   "execution_count": 304,
   "metadata": {},
   "outputs": [
    {
     "data": {
      "text/plain": [
       "[<matplotlib.lines.Line2D at 0x7fac8a065dd8>]"
      ]
     },
     "execution_count": 304,
     "metadata": {},
     "output_type": "execute_result"
    },
    {
     "data": {
      "image/png": "[encoded data removed]",
      "text/plain": [
       "<Figure size 432x288 with 1 Axes>"
      ]
     },
     "metadata": {
      "needs_background": "light"
     },
     "output_type": "display_data"
    }
   ],
   "source": [
    "#plot for my brain to understand that how rewards work\n",
    "\n",
    "plt.plot(range(1,1000), range(-1000, -1))"
   ]
  },
  {
   "cell_type": "code",
   "execution_count": null,
   "metadata": {},
   "outputs": [],
   "source": []
  }
 ],
 "metadata": {
  "kernelspec": {
   "display_name": "Python 3",
   "language": "python",
   "name": "python3"
  },
  "language_info": {
   "codemirror_mode": {
    "name": "ipython",
    "version": 3
   },
   "file_extension": ".py",
   "mimetype": "text/x-python",
   "name": "python",
   "nbconvert_exporter": "python",
   "pygments_lexer": "ipython3",
   "version": "3.6.9"
  }
 },
 "nbformat": 4,
 "nbformat_minor": 4
}
