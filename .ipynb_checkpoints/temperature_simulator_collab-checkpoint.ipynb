{
 "cells": [
  {
   "cell_type": "code",
   "execution_count": 1,
   "metadata": {
    "colab": {},
    "colab_type": "code",
    "id": "Ui9EJL1V38NO"
   },
   "outputs": [
    {
     "name": "stderr",
     "output_type": "stream",
     "text": [
      "UsageError: Line magic function `%tensorflow_version` not found.\n"
     ]
    }
   ],
   "source": [
    "from datetime import timedelta\n",
    "import numpy as np\n",
    "from matplotlib import pyplot as plt\n",
    "import pandas as pd\n",
    "%tensorflow_version 1.x"
   ]
  },
  {
   "cell_type": "markdown",
   "metadata": {
    "colab_type": "text",
    "id": "CZjDKVNY38Nd"
   },
   "source": [
    "## Data"
   ]
  },
  {
   "cell_type": "code",
   "execution_count": 18,
   "metadata": {
    "colab": {},
    "colab_type": "code",
    "id": "xCNPRj8o38Nf"
   },
   "outputs": [
    {
     "data": {
      "text/html": [
       "<div>\n",
       "<style scoped>\n",
       "    .dataframe tbody tr th:only-of-type {\n",
       "        vertical-align: middle;\n",
       "    }\n",
       "\n",
       "    .dataframe tbody tr th {\n",
       "        vertical-align: top;\n",
       "    }\n",
       "\n",
       "    .dataframe thead th {\n",
       "        text-align: right;\n",
       "    }\n",
       "</style>\n",
       "<table border=\"1\" class=\"dataframe\">\n",
       "  <thead>\n",
       "    <tr style=\"text-align: right;\">\n",
       "      <th></th>\n",
       "      <th>temperature</th>\n",
       "      <th>time_interval</th>\n",
       "    </tr>\n",
       "  </thead>\n",
       "  <tbody>\n",
       "    <tr>\n",
       "      <th>0</th>\n",
       "      <td>29.941</td>\n",
       "      <td>0</td>\n",
       "    </tr>\n",
       "    <tr>\n",
       "      <th>1</th>\n",
       "      <td>29.941</td>\n",
       "      <td>1</td>\n",
       "    </tr>\n",
       "    <tr>\n",
       "      <th>2</th>\n",
       "      <td>29.941</td>\n",
       "      <td>2</td>\n",
       "    </tr>\n",
       "    <tr>\n",
       "      <th>3</th>\n",
       "      <td>29.966</td>\n",
       "      <td>3</td>\n",
       "    </tr>\n",
       "    <tr>\n",
       "      <th>4</th>\n",
       "      <td>29.941</td>\n",
       "      <td>4</td>\n",
       "    </tr>\n",
       "    <tr>\n",
       "      <th>5</th>\n",
       "      <td>29.916</td>\n",
       "      <td>5</td>\n",
       "    </tr>\n",
       "    <tr>\n",
       "      <th>6</th>\n",
       "      <td>29.890</td>\n",
       "      <td>6</td>\n",
       "    </tr>\n",
       "    <tr>\n",
       "      <th>7</th>\n",
       "      <td>29.916</td>\n",
       "      <td>7</td>\n",
       "    </tr>\n",
       "    <tr>\n",
       "      <th>8</th>\n",
       "      <td>29.941</td>\n",
       "      <td>8</td>\n",
       "    </tr>\n",
       "    <tr>\n",
       "      <th>9</th>\n",
       "      <td>29.941</td>\n",
       "      <td>9</td>\n",
       "    </tr>\n",
       "  </tbody>\n",
       "</table>\n",
       "</div>"
      ],
      "text/plain": [
       "   temperature  time_interval\n",
       "0       29.941              0\n",
       "1       29.941              1\n",
       "2       29.941              2\n",
       "3       29.966              3\n",
       "4       29.941              4\n",
       "5       29.916              5\n",
       "6       29.890              6\n",
       "7       29.916              7\n",
       "8       29.941              8\n",
       "9       29.941              9"
      ]
     },
     "execution_count": 18,
     "metadata": {},
     "output_type": "execute_result"
    }
   ],
   "source": [
    "## Currently using data from https://doi.org/10.4121/uuid:5b82f3c9-c48a-4e01-983d-e1e20e39027c having temperature sensor data\n",
    "## Each day has 480 readings, each reading carried every 3 mins.\n",
    "\n",
    "df = pd.read_csv(\"datasets/cleaned_data.csv\")\n",
    "df.head(10)"
   ]
  },
  {
   "cell_type": "markdown",
   "metadata": {
    "colab_type": "text",
    "id": "Z3T6b_QNPRPu"
   },
   "source": [
    "## Creating an environment simulating a building"
   ]
  },
  {
   "cell_type": "code",
   "execution_count": 4,
   "metadata": {
    "colab": {},
    "colab_type": "code",
    "id": "b7YH1CoC38Nr"
   },
   "outputs": [],
   "source": [
    "class Building():\n",
    "\t\"\"\"A simple Building Energy Model.\n",
    "\tParameters:\n",
    "\t\t* heat_mass_capacity:           capacity of the building's heat mass [J/K]\n",
    "\t\t* heat_transmission:            heat transmission to the outside [W/K]\n",
    "\t\t* maximum_cooling_power:        [W] (<= 0)\n",
    "\t\t* maximum_heating_power:        [W] (>= 0)\n",
    "\t\t* time_step_size:               [s]\n",
    "\t\t* conditioned_floor_area:       [m**2]\n",
    "\t\"\"\"\n",
    "\n",
    "\tdef __init__(self, heat_mass_capacity, heat_transmission,\n",
    "\t\t\t\t maximum_cooling_power, maximum_heating_power, time_step_size,\n",
    "\t\t\t\t conditioned_floor_area, heating_setpoint, cooling_setpoint, outside_data):\n",
    "\n",
    "\t\tif maximum_heating_power < 0:\n",
    "\t\t\traise ValueError(\"Maximum heating power [W] must not be negative.\")\n",
    "\t\tif maximum_cooling_power > 0:\n",
    "\t\t\traise ValueError(\"Maximum cooling power [W] must not be positive.\")\n",
    "\n",
    "\t\t# CONSTANT VALUES\n",
    "\t\tself.__heat_mass_capacity = heat_mass_capacity\n",
    "\t\tself.__heat_transmission = heat_transmission\n",
    "\t\tself.__maximum_cooling_power = maximum_cooling_power\n",
    "\t\tself.__maximum_heating_power = maximum_heating_power\n",
    "\t\tself.__time_step_size = time_step_size\n",
    "\t\tself.__conditioned_floor_area = conditioned_floor_area\n",
    "\t\tself.heating_setpoint = heating_setpoint\n",
    "\t\tself.cooling_setpoint = cooling_setpoint\n",
    "\n",
    "\t\t# VARYING VALUES\n",
    "\t\tself.outside_data = outside_data\n",
    "\t\tself.current_heating_cooling_power = None\n",
    "\t\tself.current_int_temperature = None\n",
    "\t\tself.current_ext_temperature = None\n",
    "\t\tself.current_time_interval = None\n",
    "\n",
    "\t\tdef create_actionspace():\n",
    "            \"\"\"\n",
    "            From the heating and cooling setpoints creating actions space with interval of 500 units between them.\n",
    "            \"\"\"\n",
    "            \n",
    "\t\t\ti = 0\n",
    "\t\t\tj = self.__maximum_cooling_power\n",
    "\n",
    "\t\t\taction_space = {}\n",
    "\n",
    "\t\t\twhile j <= self.__maximum_heating_power:\n",
    "\t\t\t\taction_space[i] = j\n",
    "\t\t\t\ti += 1\n",
    "\t\t\t\tj += 500\n",
    "\n",
    "\t\t\treturn action_space\n",
    "\n",
    "\t\tself.action_space = create_actionspace()\n",
    "\n",
    "\tdef value_to_action(self, value):\n",
    "        \"\"\"\n",
    "        Used to convert required heating_cooling_power (predicted using FORMULA method not Agent)  \n",
    "        into a specific action.\n",
    "        \"\"\"\n",
    "        \n",
    "\t\tfor i, j in building.action_space.items():\n",
    "\t\t\tif abs(j - value) < 500:\n",
    "\t\t\t\t\tif value < 0:\n",
    "\t\t\t\t\t\t\treturn(i+1)\n",
    "\t\t\t\t\telse:\n",
    "\t\t\t\t\t\t\treturn(i)\n",
    "\n",
    "\tdef next_ext_data(self):\n",
    "        \"\"\"\n",
    "        Data generator for agent providing external temperature and time.\n",
    "        \"\"\"\n",
    "\t\twhile True:\n",
    "\t\t\tfor i in range(len(self.outside_data)):    \n",
    "\t\t\t\ttemp, time = self.outside_data.iloc[i, :]\n",
    "\t\t\t\tyield temp, time\n",
    "\n",
    "\tdef initialize_state(self, initial_int_temp):\n",
    "        \"\"\"\n",
    "        Used the reset environment.\n",
    "        \"\"\"\n",
    "\t\tself.current_int_temperature = initial_int_temp\n",
    "\t\tself.current_heating_cooling_power = None\n",
    "\t\tself.ext_data_generator = self.next_ext_data()\n",
    "\t\tself.update_ext_data()\n",
    "\n",
    "\t\treturn self.current_state()\n",
    "    \n",
    "\n",
    "\tdef update_ext_data(self):\n",
    "\t\t\"\"\"\n",
    "\t\t\tExternal Temperature and Time Interval getting updated by the data generator\n",
    "\t\t\"\"\"\n",
    "\t\tself.current_ext_temperature, self.current_time_interval = self.ext_data_generator.__next__()\n",
    "\n",
    "\n",
    "\n",
    "\tdef _next_temperature(self, heating_cooling_power):\n",
    "\t\t\"\"\"\n",
    "\t\t\tBased on the current status of building and input heating cooling power, predict the\n",
    "\t\t\tnext temperature.\n",
    "\t\t\"\"\"\n",
    "\t\tdt_by_cm = self.__time_step_size.total_seconds() / self.__heat_mass_capacity\n",
    "\n",
    "\t\treturn (self.current_int_temperature * (1 - dt_by_cm * self.__heat_transmission) +\n",
    "\t\t\t\tdt_by_cm * (heating_cooling_power + self.__heat_transmission * self.current_ext_temperature))\n",
    "\n",
    "# state : time_interval, current_int_temperature, current_ext_temperature\n",
    "# state will be input to agent and agent will give amount of heating_cooling_power that will be needed to be applied\n",
    "# heating_cooling_power will the action that will be taken\n",
    "\n",
    "\tdef step(self, action):\n",
    "\t\t\"\"\"\n",
    "        Predicts by MODEL built in agent.\n",
    "\t\t\tInput : heating cooling power\n",
    "\t\t\tOutput :  Should return the Next temperature, Reward \n",
    "\t\t\"\"\"\n",
    "\t\tself.current_heating_cooling_power = self.action_space[action]\n",
    "\n",
    "\t\t# calculate new Temperature\n",
    "\t\tnext_temperature = self._next_temperature(self.current_heating_cooling_power)\n",
    "\n",
    "\t\t# scaling reward factor for temperature range penalty\n",
    "\t\tL = 10\n",
    "\t\t# Cost of provding heating or cooling\n",
    "\t\toperation_cost = abs(self.current_heating_cooling_power) / 100\n",
    "\n",
    "\t\t# Cost of temperature going outside the desired range of set points\n",
    "\n",
    "\t\tout_of_bounds_cost = abs(next_temperature - self.cooling_setpoint) + abs(next_temperature - self.heating_setpoint)\n",
    "\n",
    "\t\t# As going out of bounds is more costly for us\n",
    "\t\t# total_cost = operation_cost - L * out_of_bounds_cost\n",
    "\t\tif self.cooling_setpoint <= next_temperature <= self.heating_setpoint :\n",
    "\t\t\ttotal_cost = 100 - operation_cost\n",
    "\t\telse:\n",
    "\t\t\ttotal_cost = -L * out_of_bounds_cost - operation_cost\n",
    "\n",
    "\t\t# Updating to new state\n",
    "\t\tself.current_int_temperature = next_temperature\n",
    "\t\tself.update_ext_data()\n",
    "\n",
    "\t\treturn self.current_state(), total_cost\n",
    "    \n",
    "\n",
    "\tdef predicting_step(self):\n",
    "\t\t\"\"\"\n",
    "\t\tPredicts by FORMULA the appropriate heating/cooling power to maintain the temperature \n",
    "\t\twithin setpoints\n",
    "\t\t\"\"\"\n",
    "\n",
    "\t\tdef next_temperature(heating_cooling_power):\n",
    "\t\t\treturn self._next_temperature(heating_cooling_power = heating_cooling_power)\n",
    "\n",
    "\t\tnext_temperature_no_power = next_temperature(0)\n",
    "\n",
    "\t\t# if temperature is within limits by the system being off, do nothing return power as 0\n",
    "\t\tif (next_temperature_no_power >= self.heating_setpoint and\n",
    "\t\t\t\tnext_temperature_no_power <= self.cooling_setpoint):\n",
    "\t\t\treturn 0\n",
    "\t\t# Else, devise a way to determine the required heating/cooling required\n",
    "\t\telse:\n",
    "\t\t\tif next_temperature_no_power < self.heating_setpoint:\n",
    "\t\t\t\tsetpoint = self.heating_setpoint\n",
    "\t\t\t\tmax_power = self.__maximum_heating_power\n",
    "\n",
    "\t\t\telse:\n",
    "\t\t\t\tsetpoint = self.cooling_setpoint\n",
    "\t\t\t\tmax_power = self.__maximum_cooling_power\n",
    "\n",
    "\t\t\tten_watt_per_square_meter_power = 10 * self.__conditioned_floor_area\n",
    "\t\t\tnext_temperature_power_10 = next_temperature(ten_watt_per_square_meter_power)\n",
    "\n",
    "\t\t\tunrestricted_power = (ten_watt_per_square_meter_power *\n",
    "\t\t\t\t\t\t\t\t  (setpoint - next_temperature_no_power) /\n",
    "\t\t\t\t\t\t\t\t  (next_temperature_power_10 - next_temperature_no_power))\n",
    "\n",
    "\t\t\tif abs(unrestricted_power) <= abs(max_power):\n",
    "\t\t\t\treturn self.value_to_action(unrestricted_power)\n",
    "\t\t\telse:\n",
    "\t\t\t\treturn self.value_to_action(max_power)\n",
    "\n",
    "\n",
    "\tdef current_state(self):\n",
    "        \"\"\"\n",
    "        Returns the current state of the building environment.\n",
    "        \"\"\"\n",
    "\t\treturn [self.current_time_interval, self.current_int_temperature, self.current_ext_temperature]"
   ]
  },
  {
   "cell_type": "code",
   "execution_count": 5,
   "metadata": {
    "colab": {},
    "colab_type": "code",
    "id": "q-PCQddt38N1"
   },
   "outputs": [],
   "source": [
    "# Creating Building environment which the agent will interact with\n",
    "\n",
    "conditioned_floor_area = 100\n",
    "building = Building(\n",
    "    heat_mass_capacity=165000 * conditioned_floor_area,\n",
    "    heat_transmission=500,\n",
    "    conditioned_floor_area=conditioned_floor_area,\n",
    "    maximum_cooling_power=-10000,\n",
    "    maximum_heating_power=10000,\n",
    "    time_step_size=timedelta(minutes=3),\n",
    "    heating_setpoint=24, \n",
    "    cooling_setpoint=18,\n",
    "    outside_data = df\n",
    ")"
   ]
  },
  {
   "cell_type": "code",
   "execution_count": 6,
   "metadata": {
    "colab": {},
    "colab_type": "code",
    "id": "Oe4_6x5U38N_"
   },
   "outputs": [],
   "source": [
    "# Discount reward over time. Negative and positive rewards are handled seperately.\n",
    "\n",
    "def discounted_reward(reward, i):\n",
    "    FACTOR = 0.999\n",
    "    if reward <= 0:\n",
    "        return reward / np.power(FACTOR, i)\n",
    "    else:\n",
    "        return reward * np.power(FACTOR, i)"
   ]
  },
  {
   "cell_type": "code",
   "execution_count": 7,
   "metadata": {
    "colab": {},
    "colab_type": "code",
    "id": "hZTXb-FU38OK"
   },
   "outputs": [],
   "source": [
    "#initializing the state attributes, loading data and returning the first state\n",
    "# the initial internal temperature of the biulding is passed as input\n",
    "# equivalent to env.reset() from gym\n",
    "\n",
    "initial_state = building.initialize_state(30)\n",
    "\n",
    "# Constants\n",
    "\n",
    "n_actions = len(building.action_space)\n",
    "input_shape = np.shape(initial_state)\n",
    "intervals_per_day = 480"
   ]
  },
  {
   "cell_type": "markdown",
   "metadata": {
    "colab_type": "text",
    "id": "HnIISJkG38OV"
   },
   "source": [
    "## Model Defination"
   ]
  },
  {
   "cell_type": "code",
   "execution_count": 8,
   "metadata": {
    "colab": {
     "base_uri": "https://localhost:8080/",
     "height": 75
    },
    "colab_type": "code",
    "id": "VibeYfiI38OY",
    "outputId": "83ccbbb7-2374-4d04-e294-5b881483af81",
    "scrolled": true
   },
   "outputs": [
    {
     "name": "stderr",
     "output_type": "stream",
     "text": [
      "/home/cubershade/Desktop/notes/Mini Project/env1/lib/python3.6/site-packages/tensorflow/python/framework/dtypes.py:516: FutureWarning: Passing (type, 1) or '1type' as a synonym of type is deprecated; in a future version of numpy, it will be understood as (type, (1,)) / '(1,)type'.\n",
      "  _np_qint8 = np.dtype([(\"qint8\", np.int8, 1)])\n",
      "/home/cubershade/Desktop/notes/Mini Project/env1/lib/python3.6/site-packages/tensorflow/python/framework/dtypes.py:517: FutureWarning: Passing (type, 1) or '1type' as a synonym of type is deprecated; in a future version of numpy, it will be understood as (type, (1,)) / '(1,)type'.\n",
      "  _np_quint8 = np.dtype([(\"quint8\", np.uint8, 1)])\n",
      "/home/cubershade/Desktop/notes/Mini Project/env1/lib/python3.6/site-packages/tensorflow/python/framework/dtypes.py:518: FutureWarning: Passing (type, 1) or '1type' as a synonym of type is deprecated; in a future version of numpy, it will be understood as (type, (1,)) / '(1,)type'.\n",
      "  _np_qint16 = np.dtype([(\"qint16\", np.int16, 1)])\n",
      "/home/cubershade/Desktop/notes/Mini Project/env1/lib/python3.6/site-packages/tensorflow/python/framework/dtypes.py:519: FutureWarning: Passing (type, 1) or '1type' as a synonym of type is deprecated; in a future version of numpy, it will be understood as (type, (1,)) / '(1,)type'.\n",
      "  _np_quint16 = np.dtype([(\"quint16\", np.uint16, 1)])\n",
      "/home/cubershade/Desktop/notes/Mini Project/env1/lib/python3.6/site-packages/tensorflow/python/framework/dtypes.py:520: FutureWarning: Passing (type, 1) or '1type' as a synonym of type is deprecated; in a future version of numpy, it will be understood as (type, (1,)) / '(1,)type'.\n",
      "  _np_qint32 = np.dtype([(\"qint32\", np.int32, 1)])\n",
      "/home/cubershade/Desktop/notes/Mini Project/env1/lib/python3.6/site-packages/tensorflow/python/framework/dtypes.py:525: FutureWarning: Passing (type, 1) or '1type' as a synonym of type is deprecated; in a future version of numpy, it will be understood as (type, (1,)) / '(1,)type'.\n",
      "  np_resource = np.dtype([(\"resource\", np.ubyte, 1)])\n",
      "/home/cubershade/Desktop/notes/Mini Project/env1/lib/python3.6/site-packages/tensorboard/compat/tensorflow_stub/dtypes.py:541: FutureWarning: Passing (type, 1) or '1type' as a synonym of type is deprecated; in a future version of numpy, it will be understood as (type, (1,)) / '(1,)type'.\n",
      "  _np_qint8 = np.dtype([(\"qint8\", np.int8, 1)])\n",
      "/home/cubershade/Desktop/notes/Mini Project/env1/lib/python3.6/site-packages/tensorboard/compat/tensorflow_stub/dtypes.py:542: FutureWarning: Passing (type, 1) or '1type' as a synonym of type is deprecated; in a future version of numpy, it will be understood as (type, (1,)) / '(1,)type'.\n",
      "  _np_quint8 = np.dtype([(\"quint8\", np.uint8, 1)])\n",
      "/home/cubershade/Desktop/notes/Mini Project/env1/lib/python3.6/site-packages/tensorboard/compat/tensorflow_stub/dtypes.py:543: FutureWarning: Passing (type, 1) or '1type' as a synonym of type is deprecated; in a future version of numpy, it will be understood as (type, (1,)) / '(1,)type'.\n",
      "  _np_qint16 = np.dtype([(\"qint16\", np.int16, 1)])\n",
      "/home/cubershade/Desktop/notes/Mini Project/env1/lib/python3.6/site-packages/tensorboard/compat/tensorflow_stub/dtypes.py:544: FutureWarning: Passing (type, 1) or '1type' as a synonym of type is deprecated; in a future version of numpy, it will be understood as (type, (1,)) / '(1,)type'.\n",
      "  _np_quint16 = np.dtype([(\"quint16\", np.uint16, 1)])\n",
      "/home/cubershade/Desktop/notes/Mini Project/env1/lib/python3.6/site-packages/tensorboard/compat/tensorflow_stub/dtypes.py:545: FutureWarning: Passing (type, 1) or '1type' as a synonym of type is deprecated; in a future version of numpy, it will be understood as (type, (1,)) / '(1,)type'.\n",
      "  _np_qint32 = np.dtype([(\"qint32\", np.int32, 1)])\n",
      "/home/cubershade/Desktop/notes/Mini Project/env1/lib/python3.6/site-packages/tensorboard/compat/tensorflow_stub/dtypes.py:550: FutureWarning: Passing (type, 1) or '1type' as a synonym of type is deprecated; in a future version of numpy, it will be understood as (type, (1,)) / '(1,)type'.\n",
      "  np_resource = np.dtype([(\"resource\", np.ubyte, 1)])\n"
     ]
    }
   ],
   "source": [
    "import tensorflow as tf\n",
    "tf.reset_default_graph()\n",
    "sess = tf.InteractiveSession()"
   ]
  },
  {
   "cell_type": "code",
   "execution_count": 9,
   "metadata": {
    "colab": {},
    "colab_type": "code",
    "id": "JTlcOQTQ38Oj"
   },
   "outputs": [
    {
     "name": "stderr",
     "output_type": "stream",
     "text": [
      "Using TensorFlow backend.\n"
     ]
    }
   ],
   "source": [
    "from keras.layers import Dense, InputLayer\n",
    "from keras.models import Sequential\n",
    "\n",
    "class Agent:\n",
    "    \n",
    "    def __init__(self, name, n_actions, input_shape,  epsilon, reuse = False):\n",
    "        with tf.variable_scope(name, reuse):\n",
    "            \n",
    "            \"\"\"\n",
    "            Model Defination\n",
    "            \"\"\"\n",
    "            \n",
    "            self.network = Sequential()\n",
    "            self.network.add(Dense(100, activation=\"relu\", input_shape=input_shape ))\n",
    "            self.network.add(Dense(100, activation=\"relu\"))\n",
    "            self.network.add(Dense(n_actions, activation=\"linear\"))\n",
    "            \n",
    "            self.state_t = tf.placeholder(\"float32\", [None, ] + list(input_shape))\n",
    "            self.qvalues = self.get_symbolic_qvalues(self.state_t)\n",
    "            \n",
    "        self.weights = tf.get_collection(tf.GraphKeys.TRAINABLE_VARIABLES, scope=name)\n",
    "        self.epsilon = epsilon\n",
    "        \n",
    "    def get_qvalues(self, state_t):\n",
    "        \"\"\"\n",
    "            Will be called in the function by the agent which will pass the state\n",
    "            in the form of an array.\n",
    "            Runs the graph that computes the qvalues\n",
    "        \"\"\"\n",
    "        sess = tf.get_default_session()\n",
    "        return sess.run(self.qvalues, {self.state_t : state_t})\n",
    "\n",
    "    def get_symbolic_qvalues(self, state_t):\n",
    "        \"\"\"\n",
    "        After get_qvalues function is called we get the \n",
    "        \"\"\"\n",
    "\n",
    "        qvalues = self.network(state_t)\n",
    "\n",
    "        return qvalues\n",
    "\n",
    "    def sample_actions(self, qvalues):\n",
    "        \"\"\"\n",
    "            Sampling actions from the batch of qvalues\n",
    "        \"\"\"\n",
    "        batch_size, n_actions = qvalues.shape\n",
    "\n",
    "        #get random and best actions for each qvalue in batch\n",
    "        random_actions = np.random.choice(n_actions, size=batch_size)\n",
    "        best_actions = qvalues.argmax(axis=-1)\n",
    "\n",
    "        # choose whether to explore or exploit based on epsilon. Choice is made for each \n",
    "        #element in batch\n",
    "        should_explore = np.random.choice([0,1], batch_size, p = [1-self.epsilon, self.epsilon])\n",
    "\n",
    "        # Return Actions according to choice made in should explore\n",
    "\n",
    "        return np.where(should_explore, random_actions, best_actions)"
   ]
  },
  {
   "cell_type": "markdown",
   "metadata": {
    "colab_type": "text",
    "id": "1UrMgDus38Oq"
   },
   "source": [
    "## Initialization of agent and target networks"
   ]
  },
  {
   "cell_type": "code",
   "execution_count": 10,
   "metadata": {
    "colab": {},
    "colab_type": "code",
    "id": "o5GWgbdd38Os"
   },
   "outputs": [],
   "source": [
    "agent = Agent(\"Agent\", n_actions, input_shape, epsilon=0.5)\n",
    "sess.run(tf.global_variables_initializer())"
   ]
  },
  {
   "cell_type": "code",
   "execution_count": 0,
   "metadata": {
    "colab": {},
    "colab_type": "code",
    "id": "MPLz1G1X38Oy"
   },
   "outputs": [],
   "source": [
    "target_network = Agent(\"target_network\", n_actions, input_shape, epsilon=0)"
   ]
  },
  {
   "cell_type": "code",
   "execution_count": 62,
   "metadata": {
    "colab": {
     "base_uri": "https://localhost:8080/",
     "height": 36
    },
    "colab_type": "code",
    "id": "Oo4_0mg038O5",
    "outputId": "61fa24c9-06ac-47bf-8bb6-4218fb95a1fe"
   },
   "outputs": [
    {
     "data": {
      "text/plain": [
       "[0.0, 22, 29.941]"
      ]
     },
     "execution_count": 62,
     "metadata": {
      "tags": []
     },
     "output_type": "execute_result"
    }
   ],
   "source": [
    "# Initializes/resets building\n",
    "\n",
    "building.initialize_state(22)"
   ]
  },
  {
   "cell_type": "code",
   "execution_count": 0,
   "metadata": {
    "colab": {},
    "colab_type": "code",
    "id": "fb-T5v1k38PE"
   },
   "outputs": [],
   "source": [
    "def restart_model(building, n_actions, input_shape, epsilon):\n",
    "    \"\"\"\n",
    "    Called when we require to reset the agent with edits and restart the training from scratch\n",
    "    \"\"\"\n",
    "    agent = Agent(\"Agent\", n_actions, input_shape, epsilon=0.5)\n",
    "    target_network = Agent(\"target_network\", n_actions, input_shape, epsilon=0)\n",
    "    building.initialize_state(22)\n",
    "    sess.run(tf.global_variables_initializer())\n",
    "    \n",
    "    return agent, target_network"
   ]
  },
  {
   "cell_type": "markdown",
   "metadata": {
    "colab_type": "text",
    "id": "BcC7DetU38PL"
   },
   "source": [
    "## Function to evaluate the model performance while training"
   ]
  },
  {
   "cell_type": "code",
   "execution_count": 0,
   "metadata": {
    "colab": {},
    "colab_type": "code",
    "id": "2bRnZ51x38PN"
   },
   "outputs": [],
   "source": [
    "# Evaluate function which will run our agent to work \n",
    "# Greedy mode will be run when we want to deploy the model and no longer run the model\n",
    "\n",
    "def evaluate(agent, building, n_days, intervals_per_day, greedy = False):\n",
    "    \"\"\"\n",
    "    Evaluates how well the model performs over a period of days.\n",
    "    Returns the overall rewards\n",
    "    \"\"\"\n",
    "    \n",
    "    rewards = []\n",
    "    for _ in range(n_days):\n",
    "        reward = 0\n",
    "        s = building.current_state()\n",
    "        for i in range(intervals_per_day):\n",
    "            \n",
    "            qvalues = agent.get_qvalues([s])\n",
    "            action = qvalues.argmax(axis=-1)[0] if greedy else agent.sample_actions(qvalues)[0]\n",
    "            s, r = building.step(action)\n",
    "            #print(discounted_reward(r, i))\n",
    "            reward += discounted_reward(r, i)\n",
    "        \n",
    "        rewards.append(reward)\n",
    "        \n",
    "    return np.mean(rewards)"
   ]
  },
  {
   "cell_type": "markdown",
   "metadata": {
    "colab_type": "text",
    "id": "JDrtmyZG38PU"
   },
   "source": [
    "evaluate(agent, building, 1, 480)"
   ]
  },
  {
   "cell_type": "markdown",
   "metadata": {
    "colab_type": "text",
    "id": "BqQx1gCR38PV"
   },
   "source": [
    "## Function to run the agent and generate <s,a,r,s'> sessions stored in experience buffer"
   ]
  },
  {
   "cell_type": "code",
   "execution_count": 0,
   "metadata": {
    "colab": {},
    "colab_type": "code",
    "id": "TtzQ7jD438PX"
   },
   "outputs": [],
   "source": [
    "def play_and_record(agent, building, replay_buffer, n_iterations):\n",
    "    \"\"\"\n",
    "    Run the agent to predict at \"n_iterations\" amount of time_intervals.\n",
    "    Every step, the state, action, reward, next_state will be recorded in the replay_buffer\n",
    "    Record rewards over the time_intervals\n",
    "    \"\"\"\n",
    "    \n",
    "    s = building.current_state()\n",
    "    \n",
    "    reward = 0.0\n",
    "    \n",
    "    for t in range(n_iterations):\n",
    "        \n",
    "        qvalues = agent.get_qvalues([s])         # [s] cause we will pass s later in a batch\n",
    "        a = agent.sample_actions(qvalues)[0]\n",
    "        next_s, r = building.step(a)\n",
    "        \n",
    "        # Adding to replay buffer\n",
    "        \n",
    "        replay_buffer.add(state = s, action = a, reward = r, next_state = next_s)\n",
    "        reward += r\n",
    "        \n",
    "    return reward"
   ]
  },
  {
   "cell_type": "markdown",
   "metadata": {
    "colab_type": "text",
    "id": "AC3SaaLw38Pj"
   },
   "source": [
    "## Transfer weights from Agent to Target Network"
   ]
  },
  {
   "cell_type": "code",
   "execution_count": 0,
   "metadata": {
    "colab": {},
    "colab_type": "code",
    "id": "KXspcWce38Pk"
   },
   "outputs": [],
   "source": [
    "def transfer_weights_to_target(agent, target_network):\n",
    "    \"\"\"\n",
    "        During model designing we have defined self.weights that get weights of the network with name.\n",
    "        We train the agent network. Then after few iterations we copy the weights from agent to target network\n",
    "\n",
    "    \"\"\"\n",
    "    \n",
    "    assigns = []\n",
    "    \n",
    "    for w_agent, w_target in zip(agent.weights, target_network.weights):\n",
    "        # Transfer weights layer by layer (i think so)\n",
    "        assigns.append(tf.assign(w_target, w_agent, validate_shape=True))\n",
    "        \n",
    "    # Do the abobe transfers per layer\n",
    "    tf.get_default_session().run(assigns)"
   ]
  },
  {
   "cell_type": "markdown",
   "metadata": {
    "colab_type": "text",
    "id": "tiw17gHo38Pr"
   },
   "source": [
    "# Loss calculation"
   ]
  },
  {
   "cell_type": "code",
   "execution_count": 0,
   "metadata": {
    "colab": {},
    "colab_type": "code",
    "id": "e2iuEJ9c38Pt"
   },
   "outputs": [],
   "source": [
    "# Creating placeholders for <s,a,r,s'> which will be fed by the replay buffer\n",
    "# (None, )  is added cause we will add many observations of batchsize to train the network at once\n",
    "\n",
    "states = tf.placeholder(tf.float32, shape = (None, ) + input_shape)\n",
    "actions = tf.placeholder(tf.int32, shape = [None])\n",
    "rewards = tf.placeholder(tf.float32, shape = [None])\n",
    "next_states = tf.placeholder(tf.float32, shape = (None, ) + input_shape)\n",
    "\n",
    "# gamma (how much to focus on future reward in calculating target Q(s,a))\n",
    "\n",
    "gamma = 0.9"
   ]
  },
  {
   "cell_type": "markdown",
   "metadata": {
    "colab_type": "text",
    "id": "0-nZEU5p38P3"
   },
   "source": [
    "## Predicted Q(s,a)"
   ]
  },
  {
   "cell_type": "code",
   "execution_count": 0,
   "metadata": {
    "colab": {},
    "colab_type": "code",
    "id": "spxqDtd-38P5"
   },
   "outputs": [],
   "source": [
    "\"\"\"\n",
    "get qvalues Q(s) from state. Since we're already dealing with tensors we dont call agent.get_qvalues \n",
    "which was used earlier.\n",
    "\n",
    "We get Q(s,a) by multiplying a one hot vector of actions with the current_qvalues. This is the first\n",
    "component of the loss function which is computed by the agent network. This is the approximated/predicted Q(s,a)\n",
    "\"\"\"\n",
    "current_qvalues = agent.get_symbolic_qvalues(states)\n",
    "\n",
    "current_action_qvalues = tf.reduce_sum(tf.one_hot(actions, n_actions) * current_qvalues, axis=1)\n"
   ]
  },
  {
   "cell_type": "markdown",
   "metadata": {
    "colab_type": "text",
    "id": "h97UglmX38QA"
   },
   "source": [
    "## Target Q(s,a)"
   ]
  },
  {
   "cell_type": "code",
   "execution_count": 0,
   "metadata": {
    "colab": {},
    "colab_type": "code",
    "id": "7US_lZ-N38QC"
   },
   "outputs": [],
   "source": [
    "\"\"\"\n",
    "The second part is the target Q(s,a) value which we get by reward. We calculate Q(next_state) by using the\n",
    "target network which has older weights than target\n",
    "\"\"\"\n",
    "\n",
    "next_qvalues = target_network.get_symbolic_qvalues(next_states)\n",
    "\n",
    "next_state_value = tf.reduce_max(next_qvalues, axis=-1)\n",
    "\n",
    "# reference/target qvalue\n",
    "# We divide rewards by a factor p, also clip values to max -1\n",
    "#p = 100\n",
    "\n",
    "target_action_qvalues = rewards + gamma * next_state_value"
   ]
  },
  {
   "cell_type": "markdown",
   "metadata": {
    "colab_type": "text",
    "id": "S74q5UT_38QH"
   },
   "source": [
    "## Loss "
   ]
  },
  {
   "cell_type": "code",
   "execution_count": 0,
   "metadata": {
    "colab": {},
    "colab_type": "code",
    "id": "oneVvAPG38QI",
    "scrolled": true
   },
   "outputs": [],
   "source": [
    "# calculating loss\n",
    "\n",
    "td_loss = tf.reduce_mean((current_action_qvalues - target_action_qvalues)**2)\n",
    "\n",
    "# Learning rate at 0.001. We use adam optimizer and train on weights on agent\n",
    "\n",
    "train_step = tf.train.AdamOptimizer(1e-3).minimize(td_loss, var_list=agent.weights)\n"
   ]
  },
  {
   "cell_type": "code",
   "execution_count": 0,
   "metadata": {
    "colab": {},
    "colab_type": "code",
    "id": "x-3RcNOr38QO"
   },
   "outputs": [],
   "source": [
    "sess.run(tf.global_variables_initializer())"
   ]
  },
  {
   "cell_type": "code",
   "execution_count": 0,
   "metadata": {
    "colab": {},
    "colab_type": "code",
    "id": "omQZx4Vw38QT"
   },
   "outputs": [],
   "source": [
    "# function to assign values to the placeholders computing loss from the experience replay buffer\n",
    "\n",
    "def sample_batch(exp_replay, batch_size):\n",
    "    sample = exp_replay.sample(batch_size)\n",
    "    states_batch, action_batch, reward_batch, next_states_batch = sample[\"state\"],sample[\"action\"], sample[\"reward\"],sample[\"next_state\"]\n",
    "    \n",
    "    # temporary fix of shape which required (10, ) but got (10,1)\n",
    "    action_batch = action_batch.ravel()\n",
    "    reward_batch = reward_batch.ravel()\n",
    "    \n",
    "    return {\n",
    "        states : states_batch,\n",
    "        actions : action_batch,\n",
    "        rewards : reward_batch,\n",
    "        next_states : next_states_batch\n",
    "    }"
   ]
  },
  {
   "cell_type": "markdown",
   "metadata": {
    "colab_type": "text",
    "id": "xnJHvA3q38QZ"
   },
   "source": [
    "## Running Model"
   ]
  },
  {
   "cell_type": "code",
   "execution_count": 0,
   "metadata": {
    "colab": {},
    "colab_type": "code",
    "id": "UHlMb2Fn38Qa"
   },
   "outputs": [],
   "source": [
    "from tqdm import trange\n",
    "from IPython.display import clear_output\n",
    "import pandas as pd \n",
    "%matplotlib inline"
   ]
  },
  {
   "cell_type": "code",
   "execution_count": 0,
   "metadata": {
    "colab": {},
    "colab_type": "code",
    "id": "YEEmB3k638Qf"
   },
   "outputs": [],
   "source": [
    "agent, target_network = restart_model(building, n_actions, input_shape, 0.5)"
   ]
  },
  {
   "cell_type": "markdown",
   "metadata": {
    "colab_type": "text",
    "id": "9RvIz8MV38Qr"
   },
   "source": [
    "## experience replay buffer"
   ]
  },
  {
   "cell_type": "code",
   "execution_count": 75,
   "metadata": {
    "colab": {
     "base_uri": "https://localhost:8080/",
     "height": 75
    },
    "colab_type": "code",
    "id": "h3DYlh1I4xqB",
    "outputId": "d16b1c99-da0e-452a-8522-f43bed338bc4"
   },
   "outputs": [
    {
     "name": "stdout",
     "output_type": "stream",
     "text": [
      "Requirement already satisfied: cpprb in /usr/local/lib/python3.6/dist-packages (8.4.8)\n",
      "Requirement already satisfied: numpy in /usr/local/lib/python3.6/dist-packages (from cpprb) (1.18.5)\n"
     ]
    }
   ],
   "source": [
    "!pip install cpprb"
   ]
  },
  {
   "cell_type": "code",
   "execution_count": 76,
   "metadata": {
    "colab": {
     "base_uri": "https://localhost:8080/",
     "height": 36
    },
    "colab_type": "code",
    "id": "5OyQyCz938Qu",
    "outputId": "c70e6e02-c134-4763-b032-8d2fc635e928",
    "scrolled": true
   },
   "outputs": [
    {
     "data": {
      "text/plain": [
       "-155318.87834143185"
      ]
     },
     "execution_count": 76,
     "metadata": {
      "tags": []
     },
     "output_type": "execute_result"
    }
   ],
   "source": [
    "from cpprb import ReplayBuffer\n",
    "\n",
    "mean_rw_history = []\n",
    "td_loss_history = []\n",
    "\n",
    "buffer_size = 20000\n",
    "state_shape = 3\n",
    "act_dim = 1\n",
    "reward_dim = 1\n",
    "\n",
    "\n",
    "exp_replay = ReplayBuffer(20000, env_dict = {\"state\": {\"shape\": state_shape}, \"action\": {\"shape\": act_dim}, \n",
    "                                           \"reward\": {\"shape\": reward_dim}, \"next_state\": {\"shape\": state_shape} })\n",
    "play_and_record(agent, building, exp_replay, 10_000)"
   ]
  },
  {
   "cell_type": "markdown",
   "metadata": {
    "colab_type": "text",
    "id": "YR7HrZp838Q2"
   },
   "source": [
    "## Main Loop"
   ]
  },
  {
   "cell_type": "code",
   "execution_count": 78,
   "metadata": {
    "colab": {
     "base_uri": "https://localhost:8080/",
     "height": 375
    },
    "colab_type": "code",
    "id": "BQTakn3u38Q3",
    "outputId": "c5375596-804c-44e2-aa45-cccbb3cf772c"
   },
   "outputs": [
    {
     "name": "stdout",
     "output_type": "stream",
     "text": [
      "iteration 99900 and epsilon 0.06631993905469107\n"
     ]
    },
    {
     "data": {
      "image/png": "[encoded data removed]",
      "text/plain": [
       "<Figure size 3456x288 with 1 Axes>"
      ]
     },
     "metadata": {
      "needs_background": "light",
      "tags": []
     },
     "output_type": "display_data"
    },
    {
     "data": {
      "image/png": "[encoded data removed]",
      "text/plain": [
       "<Figure size 3456x288 with 1 Axes>"
      ]
     },
     "metadata": {
      "needs_background": "light",
      "tags": []
     },
     "output_type": "display_data"
    }
   ],
   "source": [
    "for i in range(100_000):\n",
    "    \n",
    "    # Run the agent\n",
    "    \n",
    "    play_and_record(agent, building, exp_replay, 100)\n",
    "    \n",
    "    # train the network with batch size 64\n",
    "    \n",
    "    _, loss_t = sess.run([train_step, td_loss], sample_batch(exp_replay, 64))\n",
    "    td_loss_history.append(loss_t)\n",
    "    \n",
    "    # We adjust epsion of agent and transfer weights from agent to target_network\n",
    "    # Also evaluate agents performance in one day\n",
    "    if i % 500 == 0:\n",
    "        \n",
    "        transfer_weights_to_target(agent, target_network)\n",
    "        \n",
    "        agent.epsilon = max(0.01, agent.epsilon * 0.99)\n",
    "        mean_rw_history.append(evaluate(agent=agent, building=building, n_days=1, intervals_per_day=intervals_per_day))\n",
    "    if i == 200:\n",
    "        td_loss_history = []\n",
    "        \n",
    "    if i % 100 == 0:\n",
    "        clear_output(True)\n",
    "        print(f'iteration {i} and epsilon {agent.epsilon}')\n",
    "        \n",
    "        plt.figure(figsize=[48, 4])\n",
    "        plt.subplot(1,2,1)\n",
    "        plt.title(\"mean reward for one day\")\n",
    "        plt.plot(mean_rw_history)\n",
    "        plt.grid()\n",
    "        \n",
    "        plt.figure(figsize=[48, 4])\n",
    "        plt.subplot(1,2,2)\n",
    "        plt.title(\"TD loss\")\n",
    "        plt.plot(td_loss_history)\n",
    "        plt.grid()\n",
    "        \n",
    "        plt.show()"
   ]
  },
  {
   "cell_type": "markdown",
   "metadata": {
    "colab_type": "text",
    "id": "T_NXro1BZzIf"
   },
   "source": [
    "## Saving model parameters"
   ]
  },
  {
   "cell_type": "code",
   "execution_count": 0,
   "metadata": {
    "colab": {},
    "colab_type": "code",
    "id": "ALlKED1KI7EQ"
   },
   "outputs": [],
   "source": [
    "agent.network.save(\"trained_weights.h5\")"
   ]
  },
  {
   "cell_type": "markdown",
   "metadata": {},
   "source": [
    "## Testing Model performance vs Algorithmic model performance"
   ]
  },
  {
   "cell_type": "code",
   "execution_count": 11,
   "metadata": {
    "colab": {},
    "colab_type": "code",
    "id": "xLmOJevnZ12A"
   },
   "outputs": [],
   "source": [
    "def evaluate_by_algo(building, n_days, intervals_per_day, greedy = False):\n",
    "    \n",
    "    rewards = []\n",
    "    for _ in range(n_days):\n",
    "        reward = 0\n",
    "        s = building.current_state()\n",
    "        for i in range(intervals_per_day):\n",
    "\n",
    "            action = building.predicting_step()\n",
    "            s, r = building.step(action)\n",
    "            reward += discounted_reward(r, i)\n",
    "        \n",
    "        rewards.append(reward)\n",
    "        \n",
    "    return rewards"
   ]
  },
  {
   "cell_type": "code",
   "execution_count": 12,
   "metadata": {
    "colab": {},
    "colab_type": "code",
    "id": "lGFIla0aJRTf"
   },
   "outputs": [],
   "source": [
    "def evaluate_by_model(agent, building, n_days, intervals_per_day, greedy = False):\n",
    "    \n",
    "    rewards = []\n",
    "    for _ in range(n_days):\n",
    "        reward = 0\n",
    "        s = building.current_state()\n",
    "        for i in range(intervals_per_day):\n",
    "            \n",
    "            qvalues = agent.get_qvalues([s])\n",
    "            action = qvalues.argmax(axis=-1)[0]\n",
    "            s, r = building.step(action)\n",
    "            reward += discounted_reward(r, i)\n",
    "        \n",
    "        rewards.append(reward)\n",
    "        \n",
    "    return rewards"
   ]
  },
  {
   "cell_type": "code",
   "execution_count": 14,
   "metadata": {},
   "outputs": [],
   "source": [
    "agent.network.load_weights(\"trained_weights.h5\")"
   ]
  },
  {
   "cell_type": "markdown",
   "metadata": {
    "colab_type": "text",
    "id": "VyxWvzVSH4Mm"
   },
   "source": [
    "**Testing trained model performance against algorithmic performance for 2 months ( 56 days )**\n"
   ]
  },
  {
   "cell_type": "code",
   "execution_count": 15,
   "metadata": {
    "colab": {},
    "colab_type": "code",
    "id": "2nsqOU5iIL3G"
   },
   "outputs": [],
   "source": [
    "building.initialize_state(22)\n",
    "rewards_model = evaluate_by_model(agent=agent, building=building, n_days=56, intervals_per_day=intervals_per_day)\n",
    "building.initialize_state(22)\n",
    "rewards_algo = evaluate_by_algo(building, 56, intervals_per_day)"
   ]
  },
  {
   "cell_type": "code",
   "execution_count": 16,
   "metadata": {
    "colab": {
     "base_uri": "https://localhost:8080/",
     "height": 265
    },
    "colab_type": "code",
    "id": "TuOYoeexIjOh",
    "outputId": "564c2131-7010-4bd4-892e-493ef7fb0d94"
   },
   "outputs": [
    {
     "data": {
      "image/png": "[encoded data removed]",
      "text/plain": [
       "<Figure size 432x288 with 1 Axes>"
      ]
     },
     "metadata": {
      "needs_background": "light"
     },
     "output_type": "display_data"
    }
   ],
   "source": [
    "plt.plot(range(56), rewards_model, label = \"model\")\n",
    "plt.plot(range(56), rewards_algo, label= \"algo\")\n",
    "plt.legend()\n",
    "plt.show()"
   ]
  },
  {
   "cell_type": "code",
   "execution_count": 0,
   "metadata": {
    "colab": {},
    "colab_type": "code",
    "id": "Cbuf47OCO07-"
   },
   "outputs": [],
   "source": []
  }
 ],
 "metadata": {
  "colab": {
   "name": "temperature simulator.ipynb",
   "provenance": [],
   "toc_visible": true
  },
  "kernelspec": {
   "display_name": "Python 3",
   "language": "python",
   "name": "python3"
  },
  "language_info": {
   "codemirror_mode": {
    "name": "ipython",
    "version": 3
   },
   "file_extension": ".py",
   "mimetype": "text/x-python",
   "name": "python",
   "nbconvert_exporter": "python",
   "pygments_lexer": "ipython3",
   "version": "3.6.9"
  }
 },
 "nbformat": 4,
 "nbformat_minor": 1
}
