{
 "cells": [
  {
   "cell_type": "code",
   "execution_count": 23,
   "metadata": {},
   "outputs": [],
   "source": [
    "from datetime import timedelta\n",
    "import numpy as np\n",
    "from matplotlib import pyplot as plt\n",
    "import pandas as pd"
   ]
  },
  {
   "cell_type": "markdown",
   "metadata": {},
   "source": [
    "## Data and system initialization"
   ]
  },
  {
   "cell_type": "code",
   "execution_count": 24,
   "metadata": {},
   "outputs": [],
   "source": [
    "df = pd.read_csv(\"datasets/cleaned_data.csv\")"
   ]
  },
  {
   "cell_type": "code",
   "execution_count": 65,
   "metadata": {},
   "outputs": [],
   "source": [
    "class Building():\n",
    "\t\"\"\"A simple Building Energy Model.\n",
    "\tConsisting of one thermal capacity and one resistance, this model is derived from the\n",
    "\thourly dynamic model of the ISO 13790. It models heating and cooling energy demand only.\n",
    "\tParameters:\n",
    "\t\t* heat_mass_capacity:           capacity of the building's heat mass [J/K]\n",
    "\t\t* heat_transmission:            heat transmission to the outside [W/K]\n",
    "\t\t* maximum_cooling_power:        [W] (<= 0)\n",
    "\t\t* maximum_heating_power:        [W] (>= 0)\n",
    "\t\t* time_step_size:               [s]\n",
    "\t\t* conditioned_floor_area:       [m**2]\n",
    "\t\"\"\"\n",
    "\n",
    "\tdef __init__(self, heat_mass_capacity, heat_transmission,\n",
    "\t\t\t\t maximum_cooling_power, maximum_heating_power, time_step_size,\n",
    "\t\t\t\t conditioned_floor_area, heating_setpoint, cooling_setpoint, outside_data):\n",
    "\n",
    "\t\tif maximum_heating_power < 0:\n",
    "\t\t\traise ValueError(\"Maximum heating power [W] must not be negative.\")\n",
    "\t\tif maximum_cooling_power > 0:\n",
    "\t\t\traise ValueError(\"Maximum cooling power [W] must not be positive.\")\n",
    "\n",
    "\t\t# CONSTANT VALUES\n",
    "\t\tself.__heat_mass_capacity = heat_mass_capacity\n",
    "\t\tself.__heat_transmission = heat_transmission\n",
    "\t\tself.__maximum_cooling_power = maximum_cooling_power\n",
    "\t\tself.__maximum_heating_power = maximum_heating_power\n",
    "\t\tself.__time_step_size = time_step_size\n",
    "\t\tself.__conditioned_floor_area = conditioned_floor_area\n",
    "\t\tself.heating_setpoint = heating_setpoint\n",
    "\t\tself.cooling_setpoint = cooling_setpoint\n",
    "\n",
    "\t\t# VARYING VALUES\n",
    "\t\tself.outside_data = outside_data\n",
    "\t\tself.current_heating_cooling_power = None\n",
    "\t\tself.current_int_temperature = None\n",
    "\t\tself.current_ext_temperature = None\n",
    "\t\tself.current_time_interval = None\n",
    "\n",
    "\t\tdef create_actionspace():\n",
    "\t\t\ti = 0\n",
    "\t\t\tj = self.__maximum_cooling_power\n",
    "\n",
    "\t\t\taction_space = {}\n",
    "\n",
    "\t\t\twhile j <= self.__maximum_heating_power:\n",
    "\t\t\t\taction_space[i] = j\n",
    "\t\t\t\ti += 1\n",
    "\t\t\t\tj += 500\n",
    "\n",
    "\t\t\treturn action_space\n",
    "\n",
    "\t\tself.action_space = create_actionspace()\n",
    "\n",
    "\tdef next_ext_data(self):\n",
    "\t\twhile True:\n",
    "\t\t\tfor i in range(len(self.outside_data)):    \n",
    "\t\t\t\ttemp, time = self.outside_data.iloc[i, :]\n",
    "\t\t\t\tyield temp, time\n",
    "\n",
    "\tdef initialize_state(self, initial_int_temp):\n",
    "\t\tself.current_int_temperature = initial_int_temp\n",
    "\t\tself.current_heating_cooling_power = None\n",
    "\t\tself.ext_data_generator = self.next_ext_data()\n",
    "\t\tself.update_ext_data()\n",
    "\n",
    "\t\treturn self.current_state()\n",
    "\n",
    "\tdef update_ext_data(self):\n",
    "\t\t\"\"\"\n",
    "\t\t\tExternal Temperature and Time Interval getting updated by the data generator\n",
    "\t\t\"\"\"\n",
    "\t\tself.current_ext_temperature, self.current_time_interval = self.ext_data_generator.__next__()\n",
    "\n",
    "\n",
    "\n",
    "\n",
    "\tdef _next_temperature(self, heating_cooling_power):\n",
    "\t\t\"\"\"\n",
    "\t\t\tBased on the current status of building and input heating cooling power, predict the\n",
    "\t\t\tnext temperature.\n",
    "\t\t\"\"\"\n",
    "\t\tdt_by_cm = self.__time_step_size.total_seconds() / self.__heat_mass_capacity\n",
    "\n",
    "\t\treturn (self.current_int_temperature * (1 - dt_by_cm * self.__heat_transmission) +\n",
    "\t\t\t\tdt_by_cm * (heating_cooling_power + self.__heat_transmission * self.current_ext_temperature))\n",
    "\n",
    "# state : time_interval, current_int_temperature, current_ext_temperature\n",
    "# state will be input to agent and agent will give amount of heating_cooling_power that will be needed to be applied\n",
    "# heating_cooling_power will the action that will be taken\n",
    "\n",
    "\tdef step(self, action):\n",
    "\t\t\"\"\"\n",
    "\t\t\tInput : heating cooling power\n",
    "\t\t\tOutput :  Should return the Next temperature, Reward \n",
    "\t\t\"\"\"\n",
    "\t\tself.current_heating_cooling_power = self.action_space[action]\n",
    "\n",
    "\t\t# calculate new Temperature\n",
    "\t\tnext_temperature = self._next_temperature(self.current_heating_cooling_power)\n",
    "\n",
    "\t\t# scaling reward factor for temperature range penalty\n",
    "\t\tL = 10\n",
    "\t\t# Cost of provding heating or cooling\n",
    "\t\toperation_cost = abs(self.current_heating_cooling_power) / 100\n",
    "\n",
    "\t\t# Cost of temperature going outside the desired range of set points\n",
    "\n",
    "\t\tout_of_bounds_cost = abs(next_temperature - self.cooling_setpoint) + abs(next_temperature - self.heating_setpoint)\n",
    "\n",
    "\t\t# As going out of bounds is more costly for us\n",
    "\t\t# total_cost = operation_cost - L * out_of_bounds_cost\n",
    "\t\tif self.cooling_setpoint <= next_temperature <= self.heating_setpoint :\n",
    "\t\t\ttotal_cost = 100 - operation_cost\n",
    "\t\telse:\n",
    "\t\t\ttotal_cost = -L * out_of_bounds_cost - operation_cost\n",
    "\n",
    "\t\t\n",
    "\n",
    "\t\t# Updating to new state\n",
    "\t\tself.current_int_temperature = next_temperature\n",
    "\t\tself.update_ext_data()\n",
    "\n",
    "\t\treturn self.current_state(), total_cost\n",
    "\n",
    "\n",
    "\tdef current_state(self):\n",
    "\t\treturn [self.current_time_interval, self.current_int_temperature, self.current_ext_temperature]"
   ]
  },
  {
   "cell_type": "code",
   "execution_count": 66,
   "metadata": {},
   "outputs": [],
   "source": [
    "# Creating Building environment which the agent will interact with\n",
    "\n",
    "conditioned_floor_area = 100\n",
    "building = Building(\n",
    "    heat_mass_capacity=165000 * conditioned_floor_area,\n",
    "    heat_transmission=500,\n",
    "    conditioned_floor_area=conditioned_floor_area,\n",
    "    maximum_cooling_power=-10000,\n",
    "    maximum_heating_power=10000,\n",
    "    time_step_size=timedelta(minutes=3),\n",
    "    heating_setpoint=24, \n",
    "    cooling_setpoint=18,\n",
    "    outside_data = df\n",
    ")"
   ]
  },
  {
   "cell_type": "code",
   "execution_count": 27,
   "metadata": {},
   "outputs": [],
   "source": [
    "# Discount reward overtime\n",
    "def discounted_reward(reward, i):\n",
    "    FACTOR = 0.999\n",
    "    if reward <= 0:\n",
    "        return reward / np.power(FACTOR, i)\n",
    "    else:\n",
    "        return reward * np.power(FACTOR, i)"
   ]
  },
  {
   "cell_type": "code",
   "execution_count": 48,
   "metadata": {},
   "outputs": [],
   "source": [
    "#initializing the state attributes, loading data and returning the first state\n",
    "# the initial internal temperature of the biulding is passed as input\n",
    "# equivalent to env.reset() from gym\n",
    "\n",
    "initial_state = building.initialize_state(30)\n",
    "\n",
    "# Constants\n",
    "\n",
    "n_actions = len(building.action_space)\n",
    "input_shape = np.shape(initial_state)\n",
    "intervals_per_day = 480"
   ]
  },
  {
   "cell_type": "markdown",
   "metadata": {},
   "source": [
    "## Model Defination"
   ]
  },
  {
   "cell_type": "code",
   "execution_count": 29,
   "metadata": {},
   "outputs": [
    {
     "name": "stderr",
     "output_type": "stream",
     "text": [
      "/home/cubershade/Desktop/notes/Mini Project/env1/lib/python3.6/site-packages/tensorflow/python/client/session.py:1735: UserWarning: An interactive session is already active. This can cause out-of-memory errors in some cases. You must explicitly call `InteractiveSession.close()` to release resources held by the other session(s).\n",
      "  warnings.warn('An interactive session is already active. This can '\n"
     ]
    }
   ],
   "source": [
    "import tensorflow as tf\n",
    "tf.reset_default_graph()\n",
    "sess = tf.InteractiveSession()"
   ]
  },
  {
   "cell_type": "code",
   "execution_count": 30,
   "metadata": {},
   "outputs": [],
   "source": [
    "from keras.layers import Dense, InputLayer\n",
    "from keras.models import Sequential\n",
    "\n",
    "class Agent:\n",
    "    \n",
    "    def __init__(self, name, n_actions, input_shape,  epsilon, reuse = False):\n",
    "        with tf.variable_scope(name, reuse):\n",
    "            \n",
    "            self.network = Sequential()\n",
    "            self.network.add(Dense(50, activation=\"relu\", input_shape=input_shape ))\n",
    "            self.network.add(Dense(100, activation=\"relu\"))\n",
    "            self.network.add(Dense(n_actions, activation=\"linear\"))\n",
    "            \n",
    "            self.state_t = tf.placeholder(\"float32\", [None, ] + list(input_shape))\n",
    "            self.qvalues = self.get_symbolic_qvalues(self.state_t)\n",
    "            \n",
    "        self.weights = tf.get_collection(tf.GraphKeys.TRAINABLE_VARIABLES, scope=name)\n",
    "        self.epsilon = epsilon\n",
    "        \n",
    "    def get_qvalues(self, state_t):\n",
    "        \"\"\"\n",
    "            Will be called in the function by the agent which will pass the state\n",
    "            in the form of an array.\n",
    "            Runs the graph that computes the qvalues\n",
    "        \"\"\"\n",
    "        sess = tf.get_default_session()\n",
    "        return sess.run(self.qvalues, {self.state_t : state_t})\n",
    "\n",
    "    def get_symbolic_qvalues(self, state_t):\n",
    "        \"\"\"\n",
    "        After get_qvalues function is called we get the \n",
    "        \"\"\"\n",
    "\n",
    "        qvalues = self.network(state_t)\n",
    "\n",
    "        return qvalues\n",
    "\n",
    "    def sample_actions(self, qvalues):\n",
    "        \"\"\"\n",
    "            Sampling actions from the batch of qvalues\n",
    "        \"\"\"\n",
    "        batch_size, n_actions = qvalues.shape\n",
    "\n",
    "        #get random and best actions for each qvalue in batch\n",
    "        random_actions = np.random.choice(n_actions, size=batch_size)\n",
    "        best_actions = qvalues.argmax(axis=-1)\n",
    "\n",
    "        # choose whether to explore or exploit based on epsilon. Choice is made for each \n",
    "        #element in batch\n",
    "        should_explore = np.random.choice([0,1], batch_size, p = [1-self.epsilon, self.epsilon])\n",
    "\n",
    "        # Return Actions according to choice made in should explore\n",
    "\n",
    "        return np.where(should_explore, random_actions, best_actions)"
   ]
  },
  {
   "cell_type": "markdown",
   "metadata": {},
   "source": [
    "## Initialization of agent and target networks"
   ]
  },
  {
   "cell_type": "code",
   "execution_count": 55,
   "metadata": {},
   "outputs": [],
   "source": [
    "agent = Agent(\"Agent\", n_actions, input_shape, epsilon=0.5)\n",
    "sess.run(tf.global_variables_initializer())"
   ]
  },
  {
   "cell_type": "code",
   "execution_count": 56,
   "metadata": {},
   "outputs": [],
   "source": [
    "target_network = Agent(\"target_network\", n_actions, input_shape, epsilon=0)"
   ]
  },
  {
   "cell_type": "code",
   "execution_count": 57,
   "metadata": {},
   "outputs": [
    {
     "data": {
      "text/plain": [
       "[0.0, 22, 29.941]"
      ]
     },
     "execution_count": 57,
     "metadata": {},
     "output_type": "execute_result"
    }
   ],
   "source": [
    "building.initialize_state(22)"
   ]
  },
  {
   "cell_type": "code",
   "execution_count": 58,
   "metadata": {},
   "outputs": [],
   "source": [
    "def restart_model(building, n_actions, input_shape, epsilon):\n",
    "    agent = Agent(\"Agent\", n_actions, input_shape, epsilon=0.5)\n",
    "    target_network = Agent(\"target_network\", n_actions, input_shape, epsilon=0)\n",
    "    building.initialize_state(22)\n",
    "    sess.run(tf.global_variables_initializer())\n",
    "    \n",
    "    return agent, target_network"
   ]
  },
  {
   "cell_type": "markdown",
   "metadata": {},
   "source": [
    "## Function to evaluate the model performance while training"
   ]
  },
  {
   "cell_type": "code",
   "execution_count": 34,
   "metadata": {},
   "outputs": [],
   "source": [
    "# Evaluate function which will run our agent to work \n",
    "# Greedy mode will be run when we want to deploy the model and no longer run the model\n",
    "\n",
    "def evaluate(agent, building, n_days, intervals_per_day, greedy = False):\n",
    "    \n",
    "    rewards = []\n",
    "    for _ in range(n_days):\n",
    "        reward = 0\n",
    "        s = building.current_state()\n",
    "        for i in range(intervals_per_day):\n",
    "            \n",
    "            qvalues = agent.get_qvalues([s])\n",
    "            action = qvalues.argmax(axis=-1)[0] if greedy else agent.sample_actions(qvalues)[0]\n",
    "            s, r = building.step(action)\n",
    "            #print(discounted_reward(r, i))\n",
    "            reward += discounted_reward(r, i)\n",
    "        \n",
    "        rewards.append(reward)\n",
    "        \n",
    "    return np.mean(rewards)"
   ]
  },
  {
   "cell_type": "markdown",
   "metadata": {},
   "source": [
    "evaluate(agent, building, 1, 480)"
   ]
  },
  {
   "cell_type": "markdown",
   "metadata": {},
   "source": [
    "## Function to run the agent and generate <s,a,r,s'> sessions stored in experience buffer"
   ]
  },
  {
   "cell_type": "code",
   "execution_count": 35,
   "metadata": {},
   "outputs": [],
   "source": [
    "def play_and_record(agent, building, replay_buffer, n_iterations):\n",
    "    \"\"\"\n",
    "    Run the agent to predict at \"n_iterations\" amount of time_intervals.\n",
    "    Every step, the state, action, reward, next_state will be recorded in the replay_buffer\n",
    "    Record rewards over the time_intervals\n",
    "    \"\"\"\n",
    "    \n",
    "    s = building.current_state()\n",
    "    \n",
    "    reward = 0.0\n",
    "    \n",
    "    for t in range(n_iterations):\n",
    "        \n",
    "        qvalues = agent.get_qvalues([s])         # [s] cause we will pass s later in a batch\n",
    "        a = agent.sample_actions(qvalues)[0]\n",
    "        next_s, r = building.step(a)\n",
    "        \n",
    "        # Adding to replay buffer\n",
    "        \n",
    "        replay_buffer.add(state = s, action = a, reward = r, next_state = next_s)\n",
    "        reward += r\n",
    "        \n",
    "    return reward"
   ]
  },
  {
   "cell_type": "markdown",
   "metadata": {},
   "source": [
    "## Transfer weights from Agent to Target Network"
   ]
  },
  {
   "cell_type": "code",
   "execution_count": 36,
   "metadata": {},
   "outputs": [],
   "source": [
    "# We train the agent network. Then after few iterations we copy the weights from agent to target network\n",
    "\n",
    "def transfer_weights_to_target(agent, target_network):\n",
    "    \"\"\"\n",
    "        During model designing we have defined self.weights that get weights of the network with name.\n",
    "    \"\"\"\n",
    "    \n",
    "    assigns = []\n",
    "    \n",
    "    for w_agent, w_target in zip(agent.weights, target_network.weights):\n",
    "        # Transfer weights layer by layer (i think so)\n",
    "        assigns.append(tf.assign(w_target, w_agent, validate_shape=True))\n",
    "        \n",
    "    # Do the abobe transfers per layer\n",
    "    tf.get_default_session().run(assigns)"
   ]
  },
  {
   "cell_type": "markdown",
   "metadata": {},
   "source": [
    "# Loss calculation"
   ]
  },
  {
   "cell_type": "code",
   "execution_count": 37,
   "metadata": {},
   "outputs": [],
   "source": [
    "# Creating placeholders for <s,a,r,s'> which will be fed by the replay buffer\n",
    "# (None, )  is added cause we will add many observations of batchsize to train the network at once\n",
    "\n",
    "states = tf.placeholder(tf.float32, shape = (None, ) + input_shape)\n",
    "actions = tf.placeholder(tf.int32, shape = [None])\n",
    "rewards = tf.placeholder(tf.float32, shape = [None])\n",
    "next_states = tf.placeholder(tf.float32, shape = (None, ) + input_shape)\n",
    "\n",
    "# gamma (how much to focus on future reward in calculating target Q(s,a))\n",
    "\n",
    "gamma = 0.9"
   ]
  },
  {
   "cell_type": "markdown",
   "metadata": {},
   "source": [
    "## Predicted Q(s,a)"
   ]
  },
  {
   "cell_type": "code",
   "execution_count": 38,
   "metadata": {},
   "outputs": [],
   "source": [
    "\"\"\"\n",
    "get qvalues Q(s) from state. Since we're already dealing with tensors we dont call agent.get_qvalues \n",
    "which was used earlier.\n",
    "\n",
    "We get Q(s,a) by multiplying a one hot vector of actions with the current_qvalues. This is the first\n",
    "component of the loss function which is computed by the agent network. This is the approximated/predicted Q(s,a)\n",
    "\"\"\"\n",
    "current_qvalues = agent.get_symbolic_qvalues(states)\n",
    "\n",
    "current_action_qvalues = tf.reduce_sum(tf.one_hot(actions, n_actions) * current_qvalues, axis=1)\n"
   ]
  },
  {
   "cell_type": "markdown",
   "metadata": {},
   "source": [
    "## Target Q(s,a)"
   ]
  },
  {
   "cell_type": "code",
   "execution_count": 39,
   "metadata": {},
   "outputs": [],
   "source": [
    "\"\"\"\n",
    "The second part is the target Q(s,a) value which we get by reward. We calculate Q(next_state) by using the\n",
    "target network which has older weights than target\n",
    "\"\"\"\n",
    "\n",
    "next_qvalues = target_network.get_symbolic_qvalues(next_states)\n",
    "\n",
    "next_state_value = tf.reduce_max(next_qvalues, axis=-1)\n",
    "\n",
    "# reference/target qvalue\n",
    "# We divide rewards by a factor p, also clip values to max -1\n",
    "#p = 100\n",
    "\n",
    "target_action_qvalues = rewards + gamma * next_state_value"
   ]
  },
  {
   "cell_type": "markdown",
   "metadata": {},
   "source": [
    "## Loss "
   ]
  },
  {
   "cell_type": "code",
   "execution_count": 40,
   "metadata": {
    "scrolled": true
   },
   "outputs": [],
   "source": [
    "# calculating loss\n",
    "\n",
    "td_loss = tf.reduce_mean((current_action_qvalues - target_action_qvalues)**2)\n",
    "\n",
    "# Learning rate at 0.001. We use adam optimizer and train on weights on agent\n",
    "\n",
    "train_step = tf.train.AdamOptimizer(1e-3).minimize(td_loss, var_list=agent.weights)\n"
   ]
  },
  {
   "cell_type": "code",
   "execution_count": 41,
   "metadata": {},
   "outputs": [],
   "source": [
    "sess.run(tf.global_variables_initializer())"
   ]
  },
  {
   "cell_type": "code",
   "execution_count": 42,
   "metadata": {},
   "outputs": [],
   "source": [
    "# function to assign values to the placeholders computing loss from the experience replay buffer\n",
    "\n",
    "def sample_batch(exp_replay, batch_size):\n",
    "    sample = exp_replay.sample(batch_size)\n",
    "    states_batch, action_batch, reward_batch, next_states_batch = sample[\"state\"],sample[\"action\"], sample[\"reward\"],sample[\"next_state\"]\n",
    "    \n",
    "    # temporary fix of shape which required (10, ) but got (10,1)\n",
    "    action_batch = action_batch.ravel()\n",
    "    reward_batch = reward_batch.ravel()\n",
    "    \n",
    "    return {\n",
    "        states : states_batch,\n",
    "        actions : action_batch,\n",
    "        rewards : reward_batch,\n",
    "        next_states : next_states_batch\n",
    "    }"
   ]
  },
  {
   "cell_type": "markdown",
   "metadata": {},
   "source": [
    "## Running Model"
   ]
  },
  {
   "cell_type": "code",
   "execution_count": 43,
   "metadata": {},
   "outputs": [],
   "source": [
    "from tqdm import trange\n",
    "from IPython.display import clear_output\n",
    "import pandas as pd \n",
    "%matplotlib inline"
   ]
  },
  {
   "cell_type": "code",
   "execution_count": 67,
   "metadata": {},
   "outputs": [],
   "source": [
    "agent, target_network = restart_model(building, n_actions, input_shape, 0.5)"
   ]
  },
  {
   "cell_type": "markdown",
   "metadata": {},
   "source": [
    "## experience replay buffer"
   ]
  },
  {
   "cell_type": "code",
   "execution_count": 68,
   "metadata": {
    "scrolled": true
   },
   "outputs": [
    {
     "data": {
      "text/plain": [
       "-3602007.36667777"
      ]
     },
     "execution_count": 68,
     "metadata": {},
     "output_type": "execute_result"
    }
   ],
   "source": [
    "from cpprb import ReplayBuffer\n",
    "\n",
    "mean_rw_history = []\n",
    "td_loss_history = []\n",
    "\n",
    "buffer_size = 20000\n",
    "state_shape = 3\n",
    "act_dim = 1\n",
    "reward_dim = 1\n",
    "\n",
    "\n",
    "exp_replay = ReplayBuffer(20000, env_dict = {\"state\": {\"shape\": state_shape}, \"action\": {\"shape\": act_dim}, \n",
    "                                           \"reward\": {\"shape\": reward_dim}, \"next_state\": {\"shape\": state_shape} })\n",
    "play_and_record(agent, building, exp_replay, 10_000)"
   ]
  },
  {
   "cell_type": "markdown",
   "metadata": {},
   "source": [
    "## Main Loop"
   ]
  },
  {
   "cell_type": "code",
   "execution_count": null,
   "metadata": {},
   "outputs": [
    {
     "name": "stdout",
     "output_type": "stream",
     "text": [
      "iteration 100 and epsilon 0.495\n"
     ]
    },
    {
     "data": {
      "image/png": "[encoded data removed]",
      "text/plain": [
       "<Figure size 3456x288 with 1 Axes>"
      ]
     },
     "metadata": {
      "needs_background": "light"
     },
     "output_type": "display_data"
    },
    {
     "data": {
      "image/png": "[encoded data removed]",
      "text/plain": [
       "<Figure size 3456x288 with 1 Axes>"
      ]
     },
     "metadata": {
      "needs_background": "light"
     },
     "output_type": "display_data"
    }
   ],
   "source": [
    "for i in range(50_000):\n",
    "    \n",
    "    # Run the agent\n",
    "    \n",
    "    play_and_record(agent, building, exp_replay, 100)\n",
    "    \n",
    "    # train the network with batch size 64\n",
    "    \n",
    "    _, loss_t = sess.run([train_step, td_loss], sample_batch(exp_replay, 64))\n",
    "    td_loss_history.append(loss_t)\n",
    "    \n",
    "    # We adjust epsion of agent and transfer weights from agent to target_network\n",
    "    # Also evaluate agents performance in one day\n",
    "    if i % 500 == 0:\n",
    "        \n",
    "        transfer_weights_to_target(agent, target_network)\n",
    "        \n",
    "        agent.epsilon = max(0.01, agent.epsilon * 0.99)\n",
    "        mean_rw_history.append(evaluate(agent=agent, building=building, n_days=1, intervals_per_day=intervals_per_day))\n",
    "    if i == 200:\n",
    "        td_loss_history = []\n",
    "        \n",
    "    if i % 100 == 0:\n",
    "        clear_output(True)\n",
    "        print(f'iteration {i} and epsilon {agent.epsilon}')\n",
    "        \n",
    "        plt.figure(figsize=[48, 4])\n",
    "        plt.subplot(1,2,1)\n",
    "        plt.title(\"mean reward for one day\")\n",
    "        plt.plot(mean_rw_history)\n",
    "        plt.grid()\n",
    "        \n",
    "        plt.figure(figsize=[48, 4])\n",
    "        plt.subplot(1,2,2)\n",
    "        plt.title(\"TD loss\")\n",
    "        plt.plot(td_loss_history)\n",
    "        plt.grid()\n",
    "        \n",
    "        plt.show()"
   ]
  },
  {
   "cell_type": "code",
   "execution_count": null,
   "metadata": {},
   "outputs": [],
   "source": []
  }
 ],
 "metadata": {
  "kernelspec": {
   "display_name": "Python 3",
   "language": "python",
   "name": "python3"
  },
  "language_info": {
   "codemirror_mode": {
    "name": "ipython",
    "version": 3
   },
   "file_extension": ".py",
   "mimetype": "text/x-python",
   "name": "python",
   "nbconvert_exporter": "python",
   "pygments_lexer": "ipython3",
   "version": "3.6.9"
  }
 },
 "nbformat": 4,
 "nbformat_minor": 4
}
